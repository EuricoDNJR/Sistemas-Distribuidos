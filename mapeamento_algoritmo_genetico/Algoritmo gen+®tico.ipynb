{
 "cells": [
  {
   "cell_type": "code",
   "execution_count": 19,
   "id": "fd4920ca",
   "metadata": {},
   "outputs": [],
   "source": [
    "import networkx as nx\n",
    "import numpy as  np\n",
    "import random\n",
    "import json\n",
    "from time import process_time\n",
    "from functools import partial\n",
    "import concurrent.futures\n",
    "from threading import Thread"
   ]
  },
  {
   "cell_type": "markdown",
   "id": "819052da",
   "metadata": {},
   "source": [
    "## Carregando substrato e requisições\n"
   ]
  },
  {
   "cell_type": "code",
   "execution_count": 20,
   "id": "8a1c3f2d",
   "metadata": {},
   "outputs": [],
   "source": [
    "G = nx.read_gml(\"infra.gml\", label=\"id\")\n",
    "\n",
    "with open('vnr.json', 'r') as f:\n",
    "    vnrs = json.load(f)\n",
    "    \n",
    "with open('populacao_inical.json', 'r') as f:\n",
    "    populacao_inicial = json.load(f)"
   ]
  },
  {
   "cell_type": "code",
   "execution_count": 21,
   "id": "c2ad9fdc",
   "metadata": {},
   "outputs": [],
   "source": [
    "_, max_cpu = max(G.nodes.data('cpu'), key=lambda t: t[1])\n",
    "_, _, max_bandwidth = max(G.edges.data('bandwidth'), key=lambda t: t[2])"
   ]
  },
  {
   "cell_type": "code",
   "execution_count": 22,
   "id": "65162b92",
   "metadata": {},
   "outputs": [
    {
     "data": {
      "text/plain": [
       "(98, 9938)"
      ]
     },
     "execution_count": 22,
     "metadata": {},
     "output_type": "execute_result"
    }
   ],
   "source": [
    "max_cpu, max_bandwidth"
   ]
  },
  {
   "cell_type": "code",
   "execution_count": 23,
   "id": "be3517fb",
   "metadata": {},
   "outputs": [],
   "source": [
    "_, min_cpu = min(G.nodes.data('cpu'), key=lambda t: t[1])\n",
    "_, _, min_bandwidth = min(G.edges.data('bandwidth'), key=lambda t: t[2])"
   ]
  },
  {
   "cell_type": "code",
   "execution_count": 24,
   "id": "0b7605d9",
   "metadata": {},
   "outputs": [
    {
     "data": {
      "text/plain": [
       "(11, 120)"
      ]
     },
     "execution_count": 24,
     "metadata": {},
     "output_type": "execute_result"
    }
   ],
   "source": [
    "min_cpu, min_bandwidth"
   ]
  },
  {
   "cell_type": "code",
   "execution_count": 25,
   "id": "911bee7d",
   "metadata": {},
   "outputs": [
    {
     "data": {
      "text/plain": [
       "[{'nos': [34, 40, 41]},\n",
       " {'nos': [76, 45, 106]},\n",
       " {'nos': [80, 100, 105]},\n",
       " {'nos': [14, 91, 37]},\n",
       " {'nos': [25, 55, 65]},\n",
       " {'nos': [61, 30, 10]},\n",
       " {'nos': [76, 5, 106]},\n",
       " {'nos': [68, 12, 39]},\n",
       " {'nos': [66, 80, 45]},\n",
       " {'nos': [7, 80, 95]},\n",
       " {'nos': [78, 22, 38]},\n",
       " {'nos': [58, 42, 68]},\n",
       " {'nos': [89, 88, 78]},\n",
       " {'nos': [24, 57, 58]},\n",
       " {'nos': [36, 10, 72]},\n",
       " {'nos': [75, 28, 13]},\n",
       " {'nos': [99, 1, 14]},\n",
       " {'nos': [53, 95, 96]},\n",
       " {'nos': [46, 0, 11]},\n",
       " {'nos': [21, 102, 74]}]"
      ]
     },
     "execution_count": 25,
     "metadata": {},
     "output_type": "execute_result"
    }
   ],
   "source": [
    "populacao_inicial"
   ]
  },
  {
   "cell_type": "code",
   "execution_count": 26,
   "id": "515c21fd",
   "metadata": {
    "scrolled": false
   },
   "outputs": [
    {
     "data": {
      "text/plain": [
       "[{'cpu': 42, 'bandwidth': 1044, 'qtd_nos': 3, 'topologia': [[1, 2]]},\n",
       " {'cpu': 72,\n",
       "  'bandwidth': 7103,\n",
       "  'qtd_nos': 3,\n",
       "  'topologia': [[0, 1], [0, 2], [1, 2]]},\n",
       " {'cpu': 17,\n",
       "  'bandwidth': 949,\n",
       "  'qtd_nos': 3,\n",
       "  'topologia': [[0, 1], [0, 2], [1, 2]]},\n",
       " {'cpu': 44,\n",
       "  'bandwidth': 1272,\n",
       "  'qtd_nos': 3,\n",
       "  'topologia': [[0, 1], [0, 2], [1, 2]]},\n",
       " {'cpu': 89, 'bandwidth': 5621, 'qtd_nos': 3, 'topologia': [[0, 2], [1, 2]]},\n",
       " {'cpu': 41, 'bandwidth': 5263, 'qtd_nos': 3, 'topologia': [[0, 1], [0, 2]]},\n",
       " {'cpu': 76, 'bandwidth': 0, 'qtd_nos': 3, 'topologia': []},\n",
       " {'cpu': 22, 'bandwidth': 991, 'qtd_nos': 3, 'topologia': [[0, 2], [1, 2]]},\n",
       " {'cpu': 59, 'bandwidth': 3010, 'qtd_nos': 3, 'topologia': [[0, 1], [1, 2]]},\n",
       " {'cpu': 40, 'bandwidth': 2407, 'qtd_nos': 3, 'topologia': [[1, 2]]}]"
      ]
     },
     "execution_count": 26,
     "metadata": {},
     "output_type": "execute_result"
    }
   ],
   "source": [
    "vnrs"
   ]
  },
  {
   "cell_type": "markdown",
   "id": "073cc0d8",
   "metadata": {},
   "source": [
    "## Filtrando e ordenando requisições"
   ]
  },
  {
   "cell_type": "code",
   "execution_count": 27,
   "id": "92ac5a24",
   "metadata": {},
   "outputs": [],
   "source": [
    "new_vnrs = list(filter(lambda VNR: VNR['qtd_nos'] < G.number_of_nodes(), vnrs))"
   ]
  },
  {
   "cell_type": "code",
   "execution_count": 28,
   "id": "96d43275",
   "metadata": {},
   "outputs": [],
   "source": [
    "new_vnrs = sorted(new_vnrs, key=lambda VNR: VNR['cpu']/max_cpu + VNR['bandwidth']/max_bandwidth)"
   ]
  },
  {
   "cell_type": "code",
   "execution_count": 29,
   "id": "2f4df54a",
   "metadata": {},
   "outputs": [
    {
     "data": {
      "text/plain": [
       "[{'cpu': 17,\n",
       "  'bandwidth': 949,\n",
       "  'qtd_nos': 3,\n",
       "  'topologia': [[0, 1], [0, 2], [1, 2]]},\n",
       " {'cpu': 22, 'bandwidth': 991, 'qtd_nos': 3, 'topologia': [[0, 2], [1, 2]]},\n",
       " {'cpu': 42, 'bandwidth': 1044, 'qtd_nos': 3, 'topologia': [[1, 2]]},\n",
       " {'cpu': 44,\n",
       "  'bandwidth': 1272,\n",
       "  'qtd_nos': 3,\n",
       "  'topologia': [[0, 1], [0, 2], [1, 2]]},\n",
       " {'cpu': 40, 'bandwidth': 2407, 'qtd_nos': 3, 'topologia': [[1, 2]]},\n",
       " {'cpu': 76, 'bandwidth': 0, 'qtd_nos': 3, 'topologia': []},\n",
       " {'cpu': 59, 'bandwidth': 3010, 'qtd_nos': 3, 'topologia': [[0, 1], [1, 2]]},\n",
       " {'cpu': 41, 'bandwidth': 5263, 'qtd_nos': 3, 'topologia': [[0, 1], [0, 2]]},\n",
       " {'cpu': 72,\n",
       "  'bandwidth': 7103,\n",
       "  'qtd_nos': 3,\n",
       "  'topologia': [[0, 1], [0, 2], [1, 2]]},\n",
       " {'cpu': 89, 'bandwidth': 5621, 'qtd_nos': 3, 'topologia': [[0, 2], [1, 2]]}]"
      ]
     },
     "execution_count": 29,
     "metadata": {},
     "output_type": "execute_result"
    }
   ],
   "source": [
    "new_vnrs"
   ]
  },
  {
   "cell_type": "markdown",
   "id": "6d9fb275",
   "metadata": {},
   "source": [
    "## Atendendo as requisições"
   ]
  },
  {
   "cell_type": "markdown",
   "id": "64bc4dc4",
   "metadata": {},
   "source": [
    "### Sequencial"
   ]
  },
  {
   "cell_type": "code",
   "execution_count": 30,
   "id": "ecb9793e",
   "metadata": {},
   "outputs": [],
   "source": [
    "class AlgoritmoGenetico():\n",
    "    \n",
    "    def __init__(self, substrato, VNR, populacao_inicial):\n",
    "        self._substrato = substrato\n",
    "        self._VNR = VNR\n",
    "        _, self._max_cpu = max(substrato.nodes.data('cpu'), key=lambda t: t[1])\n",
    "        _, _, self._max_bandwidth = max(substrato.edges.data('bandwidth'), key=lambda t: t[2])     \n",
    "        self._populacao_inicial = populacao_inicial\n",
    "    \n",
    "    @property\n",
    "    def VNR(self):\n",
    "        return self._VNR\n",
    "    \n",
    "    @VNR.setter\n",
    "    def VNR(self, new_VNR):\n",
    "        self._VNR = new_VNR\n",
    "        \n",
    "    @property\n",
    "    def substrato(self):\n",
    "        return self._substrato\n",
    "    \n",
    "    @substrato.setter\n",
    "    def substrato(self, new_substrato):\n",
    "        self._substrato = new_substrato\n",
    "        \n",
    "    def atualiza_individuo(self, individuo):\n",
    "        individuo['cpu'] = min([self.substrato.nodes[no]['cpu'] for no in individuo['nos']]) \n",
    "    \n",
    "        try:\n",
    "            bandwidths = []\n",
    "\n",
    "            for no1, no2 in self._VNR['topologia']:\n",
    "                caminhos = nx.dijkstra_path(self.substrato, individuo['nos'][no1], individuo['nos'][no2])\n",
    "                bandwidths += [self.substrato.edges[caminhos[i], no]['bandwidth'] for i, no in enumerate(caminhos[1:])]\n",
    "            \n",
    "            individuo['bandwidth'] = min(bandwidths)\n",
    "            individuo['qtd_saltos'] = len(bandwidths)\n",
    "        except:\n",
    "            individuo['bandwidth'] = 0\n",
    "            individuo['qtd_saltos'] = 0\n",
    "            \n",
    "        return individuo\n",
    "    \n",
    "    def fitness(self, VNR):\n",
    "        cpu = (VNR['cpu'] - self._VNR['cpu']) / self._max_cpu\n",
    "        bandwidth = (VNR['bandwidth'] - self._VNR['bandwidth']) / self._max_bandwidth\n",
    "        saltos = (VNR['qtd_saltos'] - len(self._VNR['topologia'])) / self.substrato.number_of_edges() \n",
    "        \n",
    "        if cpu >= 0 and bandwidth < 0:\n",
    "            return bandwidth\n",
    "        elif cpu < 0 and bandwidth >= 0:\n",
    "            return cpu\n",
    "\n",
    "        return cpu + bandwidth - saltos\n",
    "    \n",
    "    def calcular_pontuacao(self, populacao):\n",
    "        return [self.fitness(x) for x in populacao]\n",
    "    \n",
    "    def calculo_roleta(self, pontuacoes):\n",
    "        menor_pontuacao = min(pontuacoes)\n",
    "        \n",
    "        pontuacoes_positivadas = list(map(lambda pontuacao: pontuacao-menor_pontuacao, pontuacoes))\n",
    "        \n",
    "        maior_pontuacao = max(pontuacoes_positivadas)\n",
    "        \n",
    "        pontuacoes_positivadas_reverso = list(map(lambda pontuacao: (maior_pontuacao-pontuacao) * 5, pontuacoes_positivadas))\n",
    "\n",
    "        roleta = []\n",
    "        total = sum(pontuacoes_positivadas_reverso)\n",
    "        for i, valor in enumerate(pontuacoes_positivadas_reverso):\n",
    "            repeticao = round(abs((total+1)/(valor + 1)))\n",
    "            \n",
    "            roleta.extend([i]*repeticao)\n",
    "      \n",
    "        return roleta\n",
    "    \n",
    "    def crossover(self, populacao, g1, g2):\n",
    "        # {'nos': [109, 105, 66], 'cpu': 0, 'bandwidth': 100, 'qtd_saltos': 5}\n",
    "        qtd_nos = len(populacao[g1]['nos'])\n",
    "        \n",
    "        new_individuo = {'nos': [-1 for _ in range(qtd_nos)]}\n",
    "        \n",
    "        metade = int(np.ceil(qtd_nos/2))\n",
    "        \n",
    "        indices_dos_nos = list(range(qtd_nos))\n",
    "        random.shuffle(indices_dos_nos)    \n",
    "        \n",
    "        if random.random() < 0.5:\n",
    "            g1, g2 = g2, g1\n",
    "        \n",
    "        g = g1\n",
    "        for i, indice in enumerate(indices_dos_nos):\n",
    "            if i == metade:\n",
    "                g = g2\n",
    "                \n",
    "            if populacao[g]['nos'][indice] not in new_individuo['nos']:\n",
    "                new_individuo['nos'][indice] = populacao[g]['nos'][indice]\n",
    "            else:\n",
    "                nos_possiveis = list(set(range(self.substrato.number_of_nodes())).difference(set(new_individuo['nos'])))\n",
    "                new_individuo['nos'][indice] = random.choice(nos_possiveis)\n",
    "\n",
    "        return self.atualiza_individuo(new_individuo)\n",
    "    \n",
    "    def melhor_individuo(self, populacao):\n",
    "            pontuacoes = self.calcular_pontuacao(populacao)\n",
    "                  \n",
    "            indice_maior_pontuacao = pontuacoes.index(max(pontuacoes))\n",
    "            \n",
    "            return populacao[indice_maior_pontuacao]\n",
    "            \n",
    "    def fit(self, repeticoes=100, prob_mutacao=0.1, verbose=False):\n",
    "        populacao = list(map(self.atualiza_individuo, self._populacao_inicial.copy()))\n",
    "            \n",
    "        tam_pop = len(populacao) \n",
    "\n",
    "        for count in range(repeticoes):            \n",
    "            if verbose:\n",
    "                print(\"Repetição\", count)\n",
    "            \n",
    "            pontuacoes = self.calcular_pontuacao(populacao)\n",
    "            indice_maior_pontuacao = pontuacoes.index(max(pontuacoes))\n",
    "            if verbose:\n",
    "                print('MELHOR INDIVIDUO DA EPOCA ', populacao[indice_maior_pontuacao], 'FITNESS: ', pontuacoes[indice_maior_pontuacao])\n",
    "            \n",
    "            roleta = self.calculo_roleta(pontuacoes)\n",
    "            \n",
    "            filhos = [populacao[indice_maior_pontuacao]]\n",
    "            for tam in range(tam_pop-1):\n",
    "                genitor1 = random.choice(roleta)\n",
    "                genitor2 = random.choice(roleta)\n",
    "                filho = self.crossover(populacao, genitor1, genitor2)\n",
    "\n",
    "                if (random.random() < prob_mutacao):\n",
    "                    qtd_nos_individuo = len(filho['nos'])\n",
    "                    qtd_nos_substrato = self.substrato.number_of_nodes()\n",
    "                    \n",
    "                    indice_no = random.choice(range(qtd_nos_individuo))\n",
    "                    \n",
    "                    new_nos_possiveis = list(set(range(qtd_nos_substrato)).difference(set(filho['nos'])))\n",
    "                        \n",
    "                    filho['nos'][indice_no] = random.choice(new_nos_possiveis)\n",
    "\n",
    "                    filho = self.atualiza_individuo(filho)\n",
    "                    \n",
    "                filhos.append(filho)\n",
    "                        \n",
    "            populacao = np.array(filhos) \n",
    "    \n",
    "        return self.melhor_individuo(filhos), populacao\n",
    "    \n",
    "    def mapear_rede_virtual(self, request):\n",
    "        print('Virtual Network requisitada: ', request, '\\n')\n",
    "\n",
    "        self.VNR = request\n",
    "\n",
    "        melhor_individuo, populacao = self.fit(repeticoes=2000, prob_mutacao=0.2)\n",
    "\n",
    "        return (melhor_individuo, request)\n",
    "    \n",
    "    def rede_virtual_valida(self, melhor_individuo, request):\n",
    "        if (melhor_individuo['cpu'] >= request['cpu']) and (melhor_individuo['bandwidth'] >= request['bandwidth']):\n",
    "            for no in melhor_individuo['nos']:\n",
    "                self.substrato.nodes[no]['cpu'] -= request['cpu']\n",
    "\n",
    "            for no1, no2 in request['topologia']:\n",
    "                caminho = nx.dijkstra_path(self.substrato, melhor_individuo['nos'][no1], melhor_individuo['nos'][no2])\n",
    "\n",
    "                for i, no in enumerate(caminho[1:]):\n",
    "                    self.substrato.edges[(caminho[i], no)]['bandwidth'] -= request['bandwidth']\n",
    "\n",
    "            print('Virtual Network mapeada: ', melhor_individuo, 'para a VNR: ', request, '\\n')\n",
    "        else:\n",
    "            print('Não encontrou uma solução para a VNR ', request, '\\n')"
   ]
  },
  {
   "cell_type": "code",
   "execution_count": 31,
   "id": "199aee59",
   "metadata": {},
   "outputs": [],
   "source": [
    "alg_genet = AlgoritmoGenetico(G.copy(), None, populacao_inicial)"
   ]
  },
  {
   "cell_type": "code",
   "execution_count": 32,
   "id": "6632354f",
   "metadata": {},
   "outputs": [
    {
     "name": "stdout",
     "output_type": "stream",
     "text": [
      "Virtual Network requisitada:  {'cpu': 17, 'bandwidth': 949, 'qtd_nos': 3, 'topologia': [[0, 1], [0, 2], [1, 2]]} \n",
      "\n",
      "Virtual Network mapeada:  {'nos': [40, 104, 37], 'cpu': 70, 'bandwidth': 6553, 'qtd_saltos': 4} para a VNR:  {'cpu': 17, 'bandwidth': 949, 'qtd_nos': 3, 'topologia': [[0, 1], [0, 2], [1, 2]]} \n",
      "\n",
      "Virtual Network requisitada:  {'cpu': 22, 'bandwidth': 991, 'qtd_nos': 3, 'topologia': [[0, 2], [1, 2]]} \n",
      "\n",
      "Virtual Network mapeada:  {'nos': [85, 37, 98], 'cpu': 60, 'bandwidth': 6604, 'qtd_saltos': 3} para a VNR:  {'cpu': 22, 'bandwidth': 991, 'qtd_nos': 3, 'topologia': [[0, 2], [1, 2]]} \n",
      "\n",
      "Virtual Network requisitada:  {'cpu': 42, 'bandwidth': 1044, 'qtd_nos': 3, 'topologia': [[1, 2]]} \n",
      "\n",
      "Virtual Network mapeada:  {'nos': [53, 6, 11], 'cpu': 97, 'bandwidth': 7209, 'qtd_saltos': 1} para a VNR:  {'cpu': 42, 'bandwidth': 1044, 'qtd_nos': 3, 'topologia': [[1, 2]]} \n",
      "\n",
      "Virtual Network requisitada:  {'cpu': 44, 'bandwidth': 1272, 'qtd_nos': 3, 'topologia': [[0, 1], [0, 2], [1, 2]]} \n",
      "\n",
      "Virtual Network mapeada:  {'nos': [48, 47, 43], 'cpu': 70, 'bandwidth': 6600, 'qtd_saltos': 4} para a VNR:  {'cpu': 44, 'bandwidth': 1272, 'qtd_nos': 3, 'topologia': [[0, 1], [0, 2], [1, 2]]} \n",
      "\n",
      "Virtual Network requisitada:  {'cpu': 40, 'bandwidth': 2407, 'qtd_nos': 3, 'topologia': [[1, 2]]} \n",
      "\n",
      "Virtual Network mapeada:  {'nos': [89, 20, 30], 'cpu': 80, 'bandwidth': 7390, 'qtd_saltos': 2} para a VNR:  {'cpu': 40, 'bandwidth': 2407, 'qtd_nos': 3, 'topologia': [[1, 2]]} \n",
      "\n",
      "Virtual Network requisitada:  {'cpu': 76, 'bandwidth': 0, 'qtd_nos': 3, 'topologia': []} \n",
      "\n",
      "Virtual Network mapeada:  {'nos': [65, 97, 7], 'cpu': 96, 'bandwidth': 0, 'qtd_saltos': 0} para a VNR:  {'cpu': 76, 'bandwidth': 0, 'qtd_nos': 3, 'topologia': []} \n",
      "\n",
      "Virtual Network requisitada:  {'cpu': 59, 'bandwidth': 3010, 'qtd_nos': 3, 'topologia': [[0, 1], [1, 2]]} \n",
      "\n",
      "Virtual Network mapeada:  {'nos': [98, 86, 58], 'cpu': 63, 'bandwidth': 4193, 'qtd_saltos': 5} para a VNR:  {'cpu': 59, 'bandwidth': 3010, 'qtd_nos': 3, 'topologia': [[0, 1], [1, 2]]} \n",
      "\n",
      "Virtual Network requisitada:  {'cpu': 41, 'bandwidth': 5263, 'qtd_nos': 3, 'topologia': [[0, 1], [0, 2]]} \n",
      "\n",
      "Virtual Network mapeada:  {'nos': [24, 26, 32], 'cpu': 49, 'bandwidth': 7222, 'qtd_saltos': 4} para a VNR:  {'cpu': 41, 'bandwidth': 5263, 'qtd_nos': 3, 'topologia': [[0, 1], [0, 2]]} \n",
      "\n",
      "Virtual Network requisitada:  {'cpu': 72, 'bandwidth': 7103, 'qtd_nos': 3, 'topologia': [[0, 1], [0, 2], [1, 2]]} \n",
      "\n",
      "Não encontrou uma solução para a VNR  {'cpu': 72, 'bandwidth': 7103, 'qtd_nos': 3, 'topologia': [[0, 1], [0, 2], [1, 2]]} \n",
      "\n",
      "Virtual Network requisitada:  {'cpu': 89, 'bandwidth': 5621, 'qtd_nos': 3, 'topologia': [[0, 2], [1, 2]]} \n",
      "\n",
      "Não encontrou uma solução para a VNR  {'cpu': 89, 'bandwidth': 5621, 'qtd_nos': 3, 'topologia': [[0, 2], [1, 2]]} \n",
      "\n",
      "Tempo decorrido em segundos:  238.09375\n"
     ]
    }
   ],
   "source": [
    "t1 = process_time()\n",
    "\n",
    "for request in new_vnrs:\n",
    "    melhor_individuo, _ = alg_genet.mapear_rede_virtual(request)\n",
    "    alg_genet.rede_virtual_valida(melhor_individuo, request)\n",
    "    \n",
    "t2 = process_time()\n",
    "\n",
    "print('Tempo decorrido em segundos: ', t2-t1)"
   ]
  },
  {
   "cell_type": "markdown",
   "id": "e6a24b7f",
   "metadata": {},
   "source": [
    "### Paralelo"
   ]
  },
  {
   "cell_type": "code",
   "execution_count": 33,
   "id": "e6562d8e",
   "metadata": {},
   "outputs": [],
   "source": [
    "class AlgoritmoGeneticoParalelo():\n",
    "    \n",
    "    def __init__(self, substrato, VNR, populacao_inicial):\n",
    "        self._substrato = substrato\n",
    "        self._VNR = VNR\n",
    "        _, self._max_cpu = max(substrato.nodes.data('cpu'), key=lambda t: t[1])\n",
    "        _, _, self._max_bandwidth = max(substrato.edges.data('bandwidth'), key=lambda t: t[2])     \n",
    "        self._populacao_inicial = populacao_inicial\n",
    "    \n",
    "    @property\n",
    "    def VNR(self):\n",
    "        return self._VNR\n",
    "    \n",
    "    @VNR.setter\n",
    "    def VNR(self, new_VNR):\n",
    "        self._VNR = new_VNR\n",
    "        \n",
    "    @property\n",
    "    def substrato(self):\n",
    "        return self._substrato\n",
    "    \n",
    "    @substrato.setter\n",
    "    def substrato(self, new_substrato):\n",
    "        self._substrato = new_substrato\n",
    "        \n",
    "    def atualiza_individuo(self, individuo):\n",
    "        individuo['cpu'] = min([self.substrato.nodes[no]['cpu'] for no in individuo['nos']]) \n",
    "    \n",
    "        try:\n",
    "            bandwidths = []\n",
    "\n",
    "            for no1, no2 in self._VNR['topologia']:\n",
    "                caminhos = nx.dijkstra_path(self.substrato, individuo['nos'][no1], individuo['nos'][no2])\n",
    "                bandwidths += [self.substrato.edges[caminhos[i], no]['bandwidth'] for i, no in enumerate(caminhos[1:])]\n",
    "            \n",
    "            individuo['bandwidth'] = min(bandwidths)\n",
    "            individuo['qtd_saltos'] = len(bandwidths)\n",
    "        except:\n",
    "            individuo['bandwidth'] = 0\n",
    "            individuo['qtd_saltos'] = 0\n",
    "            \n",
    "        return individuo\n",
    "    \n",
    "    def fitness(self, VNR):\n",
    "        cpu = (VNR['cpu'] - self._VNR['cpu']) / self._max_cpu\n",
    "        bandwidth = (VNR['bandwidth'] - self._VNR['bandwidth']) / self._max_bandwidth\n",
    "        saltos = (VNR['qtd_saltos'] - len(self._VNR['topologia'])) / self.substrato.number_of_edges() \n",
    "        \n",
    "        if cpu >= 0 and bandwidth < 0:\n",
    "            return bandwidth\n",
    "        elif cpu < 0 and bandwidth >= 0:\n",
    "            return cpu\n",
    "\n",
    "        return cpu + bandwidth - saltos\n",
    "    \n",
    "    def calcular_pontuacao(self, populacao):\n",
    "        return [self.fitness(x) for x in populacao]\n",
    "    \n",
    "    def calculo_roleta(self, pontuacoes):\n",
    "        menor_pontuacao = min(pontuacoes)\n",
    "        \n",
    "        pontuacoes_positivadas = list(map(lambda pontuacao: pontuacao-menor_pontuacao, pontuacoes))\n",
    "        \n",
    "        maior_pontuacao = max(pontuacoes_positivadas)\n",
    "        \n",
    "        pontuacoes_positivadas_reverso = list(map(lambda pontuacao: (maior_pontuacao-pontuacao) * 5, pontuacoes_positivadas))\n",
    "\n",
    "        roleta = []\n",
    "        total = sum(pontuacoes_positivadas_reverso)\n",
    "        for i, valor in enumerate(pontuacoes_positivadas_reverso):\n",
    "            repeticao = round(abs((total+1)/(valor + 1)))\n",
    "            \n",
    "            roleta.extend([i] * repeticao)\n",
    "      \n",
    "        return roleta\n",
    "    \n",
    "    def crossover(self, populacao, g1, g2):\n",
    "        # {'nos': [109, 105, 66], 'cpu': 0, 'bandwidth': 100, 'qtd_saltos': 5}\n",
    "        qtd_nos = len(populacao[g1]['nos'])\n",
    "        \n",
    "        new_individuo = {'nos': [-1 for _ in range(qtd_nos)]}\n",
    "        \n",
    "        metade = int(np.ceil(qtd_nos/2))\n",
    "        \n",
    "        indices_dos_nos = list(range(qtd_nos))\n",
    "        random.shuffle(indices_dos_nos)    \n",
    "        \n",
    "        if random.random() < 0.5:\n",
    "            g1, g2 = g2, g1\n",
    "        \n",
    "        g = g1\n",
    "        for i, indice in enumerate(indices_dos_nos):\n",
    "            if i == metade:\n",
    "                g = g2\n",
    "                \n",
    "            if populacao[g]['nos'][indice] not in new_individuo['nos']:\n",
    "                new_individuo['nos'][indice] = populacao[g]['nos'][indice]\n",
    "            else:\n",
    "                nos_possiveis = list(set(range(self.substrato.number_of_nodes())).difference(set(new_individuo['nos'])))\n",
    "                new_individuo['nos'][indice] = random.choice(nos_possiveis)\n",
    "\n",
    "        return self.atualiza_individuo(new_individuo)\n",
    "    \n",
    "    def melhor_individuo(self, populacao):\n",
    "            pontuacoes = self.calcular_pontuacao(populacao)\n",
    "                  \n",
    "            indice_maior_pontuacao = pontuacoes.index(max(pontuacoes))\n",
    "            \n",
    "            return populacao[indice_maior_pontuacao]\n",
    "        \n",
    "    def novo_individuo(self, populacao, prob_mutacao, roleta, param_para_paralelizar):\n",
    "        genitor1 = random.choice(roleta)\n",
    "        genitor2 = random.choice(roleta)\n",
    "        filho = self.crossover(populacao, genitor1, genitor2)\n",
    "\n",
    "        if (random.random() < prob_mutacao):\n",
    "            qtd_nos_individuo = len(filho['nos'])\n",
    "            qtd_nos_substrato = self.substrato.number_of_nodes()\n",
    "                    \n",
    "            indice_no = random.choice(range(qtd_nos_individuo))\n",
    "                    \n",
    "            new_nos_possiveis = list(set(range(qtd_nos_substrato)).difference(set(filho['nos'])))\n",
    "                        \n",
    "            filho['nos'][indice_no] = random.choice(new_nos_possiveis)\n",
    "\n",
    "            filho = self.atualiza_individuo(filho)\n",
    "            \n",
    "        return filho\n",
    "            \n",
    "    def fit(self, repeticoes=100, prob_mutacao=0.1, verbose=False):\n",
    "        populacao = list(map(self.atualiza_individuo, self._populacao_inicial.copy()))\n",
    "            \n",
    "        tam_pop = len(populacao) \n",
    "\n",
    "        for count in range(repeticoes):            \n",
    "            if verbose:\n",
    "                print(\"Repetição\", count)\n",
    "            \n",
    "            with concurrent.futures.ThreadPoolExecutor(6) as executor:\n",
    "                pontuacoes = list(executor.map(self.fitness, populacao))\n",
    "\n",
    "                indice_maior_pontuacao = pontuacoes.index(max(pontuacoes))\n",
    "                if verbose:\n",
    "                    print('MELHOR INDIVIDUO DA EPOCA ', populacao[indice_maior_pontuacao], 'FITNESS: ', pontuacoes[indice_maior_pontuacao])\n",
    "\n",
    "                roleta = self.calculo_roleta(pontuacoes)\n",
    "\n",
    "                filhos = [populacao[indice_maior_pontuacao]]\n",
    "\n",
    "                novo_individuo_partial = partial(self.novo_individuo, populacao, prob_mutacao, roleta)\n",
    "\n",
    "                new_filhos = list(executor.map(novo_individuo_partial, range(tam_pop-1)))\n",
    "\n",
    "                filhos += new_filhos\n",
    "                        \n",
    "            populacao = np.array(filhos) \n",
    "    \n",
    "        return self.melhor_individuo(filhos), populacao\n",
    "    \n",
    "    def mapear_rede_virtual(self, request):\n",
    "        print('Virtual Network requisitada: ', request, '\\n')\n",
    "\n",
    "        self.VNR = request\n",
    "\n",
    "        melhor_individuo, populacao = self.fit(repeticoes=2000, prob_mutacao=0.2)\n",
    "\n",
    "        return (melhor_individuo, request)\n",
    "    \n",
    "    def rede_virtual_valida(self, melhor_individuo, request):\n",
    "        if (melhor_individuo['cpu'] >= request['cpu']) and (melhor_individuo['bandwidth'] >= request['bandwidth']):\n",
    "            for no in melhor_individuo['nos']:\n",
    "                self.substrato.nodes[no]['cpu'] -= request['cpu']\n",
    "\n",
    "            for no1, no2 in request['topologia']:\n",
    "                caminho = nx.dijkstra_path(self.substrato, melhor_individuo['nos'][no1], melhor_individuo['nos'][no2])\n",
    "\n",
    "                for i, no in enumerate(caminho[1:]):\n",
    "                    self.substrato.edges[(caminho[i], no)]['bandwidth'] -= request['bandwidth']\n",
    "\n",
    "            print('Virtual Network mapeada: ', melhor_individuo, 'para a VNR: ', request, '\\n')\n",
    "        else:\n",
    "            print('Não encontrou uma solução para a VNR ', request, '\\n')"
   ]
  },
  {
   "cell_type": "code",
   "execution_count": 34,
   "id": "52f23823",
   "metadata": {},
   "outputs": [],
   "source": [
    "alg_genet = AlgoritmoGeneticoParalelo(G.copy(), None, populacao_inicial)"
   ]
  },
  {
   "cell_type": "code",
   "execution_count": null,
   "id": "8afdbfe0",
   "metadata": {},
   "outputs": [
    {
     "name": "stdout",
     "output_type": "stream",
     "text": [
      "Virtual Network requisitada:  {'cpu': 17, 'bandwidth': 949, 'qtd_nos': 3, 'topologia': [[0, 1], [0, 2], [1, 2]]} \n",
      "\n",
      "Virtual Network mapeada:  {'nos': [97, 20, 104], 'cpu': 91, 'bandwidth': 4625, 'qtd_saltos': 8} para a VNR:  {'cpu': 17, 'bandwidth': 949, 'qtd_nos': 3, 'topologia': [[0, 1], [0, 2], [1, 2]]} \n",
      "\n",
      "Virtual Network requisitada:  {'cpu': 22, 'bandwidth': 991, 'qtd_nos': 3, 'topologia': [[0, 2], [1, 2]]} \n",
      "\n",
      "Virtual Network mapeada:  {'nos': [9, 6, 10], 'cpu': 61, 'bandwidth': 7567, 'qtd_saltos': 3} para a VNR:  {'cpu': 22, 'bandwidth': 991, 'qtd_nos': 3, 'topologia': [[0, 2], [1, 2]]} \n",
      "\n",
      "Virtual Network requisitada:  {'cpu': 42, 'bandwidth': 1044, 'qtd_nos': 3, 'topologia': [[1, 2]]} \n",
      "\n"
     ]
    }
   ],
   "source": [
    "t1 = process_time()\n",
    "\n",
    "for request in new_vnrs:\n",
    "    melhor_individuo, _ = alg_genet.mapear_rede_virtual(request)\n",
    "    alg_genet.rede_virtual_valida(melhor_individuo, request)\n",
    "    \n",
    "t2 = process_time()\n",
    "\n",
    "print('Tempo decorrido em segundos: ', t2-t1)"
   ]
  },
  {
   "cell_type": "markdown",
   "id": "c5add37e",
   "metadata": {},
   "source": [
    "## Teste visual com substrato de 10 nós"
   ]
  },
  {
   "cell_type": "code",
   "execution_count": null,
   "id": "1903129b",
   "metadata": {},
   "outputs": [],
   "source": [
    "del G"
   ]
  },
  {
   "cell_type": "code",
   "execution_count": null,
   "id": "7935469d",
   "metadata": {},
   "outputs": [],
   "source": [
    "G = nx.Graph()\n",
    "\n",
    "# Determinando cpu como 1000 de modo que haja recurso suficiente para mapear todas as requisições\n",
    "G.add_nodes_from([(no, {\"cpu\": 1000}) for no in range(10)])\n",
    "\n",
    "G.nodes.data('cpu')"
   ]
  },
  {
   "cell_type": "code",
   "execution_count": null,
   "id": "41f5b4f8",
   "metadata": {},
   "outputs": [],
   "source": [
    "G.add_edges_from([(no1, no2, {\"bandwidth\": 10000}) for no1 in range(9) for no2 in range(no1+1, 10)])\n",
    "\n",
    "G.edges.data('bandwidth')"
   ]
  },
  {
   "cell_type": "code",
   "execution_count": null,
   "id": "ded0d04f",
   "metadata": {},
   "outputs": [],
   "source": [
    "import matplotlib.pyplot as plt\n",
    "\n",
    "edge_labels = dict([((n1, n2), bandwidth) for n1, n2, bandwidth in G.edges.data('bandwidth')])\n",
    "pos = nx.spring_layout(G)\n",
    "plt.figure()\n",
    "\n",
    "nx.draw(\n",
    "    G, pos, edge_color='black', width=1, linewidths=1,\n",
    "    node_size=500, node_color='pink', alpha=0.9,\n",
    "    labels={node: cpu for node, cpu in G.nodes.data('cpu')}\n",
    ")\n",
    "\n",
    "nx.draw_networkx_edge_labels(\n",
    "    G, pos,\n",
    "    edge_labels=edge_labels,\n",
    "    font_color='red'\n",
    ")\n",
    "\n",
    "plt.figure(figsize=(5,1))\n",
    "plt.axis('off')\n",
    "plt.show()"
   ]
  },
  {
   "cell_type": "code",
   "execution_count": null,
   "id": "29ba9233",
   "metadata": {},
   "outputs": [],
   "source": [
    "with open('populacao_inical2.json', 'r') as f:\n",
    "    populacao_inicial = json.load(f)"
   ]
  },
  {
   "cell_type": "code",
   "execution_count": null,
   "id": "b73ecbae",
   "metadata": {},
   "outputs": [],
   "source": [
    "alg_genet = AlgoritmoGenetico(G, None, populacao_inicial)\n",
    "\n",
    "for request in new_vnrs:  \n",
    "    melhor_individuo, _ = alg_genet.mapear_rede_virtual(request)\n",
    "    alg_genet.rede_virtual_valida(melhor_individuo, request)"
   ]
  },
  {
   "cell_type": "code",
   "execution_count": null,
   "id": "0eb5b3bb",
   "metadata": {},
   "outputs": [],
   "source": [
    "G = alg_genet.substrato\n",
    "\n",
    "import matplotlib.pyplot as plt\n",
    "\n",
    "edge_labels = dict([((n1, n2), bandwidth) for n1, n2, bandwidth in G.edges.data('bandwidth')])\n",
    "pos = nx.spring_layout(G)\n",
    "plt.figure()\n",
    "\n",
    "nx.draw(\n",
    "    G, pos, edge_color='black', width=1, linewidths=1,\n",
    "    node_size=500, node_color='pink', alpha=0.9,\n",
    "    labels={node: cpu for node, cpu in G.nodes.data('cpu')}\n",
    ")\n",
    "\n",
    "nx.draw_networkx_edge_labels(\n",
    "    G, pos,\n",
    "    edge_labels=edge_labels,\n",
    "    font_color='red'\n",
    ")\n",
    "\n",
    "plt.figure(figsize=(5,1))\n",
    "plt.axis('off')\n",
    "plt.show()"
   ]
  },
  {
   "cell_type": "code",
   "execution_count": null,
   "id": "c20fd053",
   "metadata": {},
   "outputs": [],
   "source": []
  }
 ],
 "metadata": {
  "kernelspec": {
   "display_name": "Python 3 (ipykernel)",
   "language": "python",
   "name": "python3"
  },
  "language_info": {
   "codemirror_mode": {
    "name": "ipython",
    "version": 3
   },
   "file_extension": ".py",
   "mimetype": "text/x-python",
   "name": "python",
   "nbconvert_exporter": "python",
   "pygments_lexer": "ipython3",
   "version": "3.9.12"
  }
 },
 "nbformat": 4,
 "nbformat_minor": 5
}
