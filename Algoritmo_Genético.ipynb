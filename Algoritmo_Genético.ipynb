{
  "cells": [
    {
      "cell_type": "markdown",
      "metadata": {
        "id": "5-9fEjlFVQWL"
      },
      "source": [
        "# Precisamos de um problema.\n",
        "## https://en.wikipedia.org/wiki/Test_functions_for_optimization\n",
        "###Booth function\n",
        "f(x,y) = (x+2y-7)^2 + (2x+y-5)^2"
      ]
    },
    {
      "cell_type": "code",
      "execution_count": null,
      "metadata": {
        "id": "BcM5EySL1SGN"
      },
      "outputs": [],
      "source": []
    },
    {
      "cell_type": "markdown",
      "metadata": {
        "id": "Yf948dTtVn2n"
      },
      "source": [
        "# Achar o valor mínimo da função Booth!"
      ]
    },
    {
      "cell_type": "code",
      "execution_count": null,
      "metadata": {
        "id": "GrplWv8iVDom"
      },
      "outputs": [],
      "source": [
        "tam_pop = 10\n",
        "dimensao = 2\n",
        "limites = [-10,10]\n"
      ]
    },
    {
      "cell_type": "code",
      "execution_count": null,
      "metadata": {
        "id": "UjsLVrxFWkz0"
      },
      "outputs": [],
      "source": [
        "import numpy as  np\n",
        "populacao = np.random.uniform(low=limites[0], high=limites[1], size=(tam_pop,dimensao))"
      ]
    },
    {
      "cell_type": "code",
      "execution_count": null,
      "metadata": {
        "colab": {
          "base_uri": "https://localhost:8080/"
        },
        "id": "zGwW7RVW3hB4",
        "outputId": "22785124-fc09-446c-8b89-cc6e9fd1634d"
      },
      "outputs": [],
      "source": [
        "populacao"
      ]
    },
    {
      "cell_type": "code",
      "execution_count": null,
      "metadata": {
        "colab": {
          "base_uri": "https://localhost:8080/"
        },
        "id": "YJBtVyIa3tDv",
        "outputId": "f0961da9-c449-4bb8-99a0-9405abf21355"
      },
      "outputs": [],
      "source": [
        "populacao[0]"
      ]
    },
    {
      "cell_type": "code",
      "execution_count": null,
      "metadata": {
        "id": "OMSni2NpXqpJ"
      },
      "outputs": [],
      "source": [
        "def pontuacao(x, y):\n",
        "  return (x + 2*y -7)**2 + (2*x + y - 5)**2"
      ]
    },
    {
      "cell_type": "code",
      "execution_count": null,
      "metadata": {
        "id": "dwx11OlmYFLO"
      },
      "outputs": [],
      "source": [
        "def calcular_pontuacao(populacao):\n",
        "  return [pontuacao(x[0],x[1]) for x in populacao ]"
      ]
    },
    {
      "cell_type": "code",
      "execution_count": null,
      "metadata": {
        "colab": {
          "base_uri": "https://localhost:8080/"
        },
        "id": "5mM5k5wC4Yfy",
        "outputId": "ce384329-a43d-4c7f-ac46-a45bc5e105fd"
      },
      "outputs": [],
      "source": [
        "p = calcular_pontuacao(populacao)\n",
        "p"
      ]
    },
    {
      "cell_type": "code",
      "execution_count": null,
      "metadata": {
        "colab": {
          "base_uri": "https://localhost:8080/"
        },
        "id": "4rqRJBjE4ivr",
        "outputId": "bce7228d-9ff1-46e5-990e-2cec4c0efb25"
      },
      "outputs": [],
      "source": [
        "populacao"
      ]
    },
    {
      "cell_type": "code",
      "execution_count": null,
      "metadata": {
        "id": "sf6tpOMYZXsv"
      },
      "outputs": [],
      "source": [
        "# objetivo é criar uma lista que poporcionalmente os indivídos com menor pontuacao \n",
        "# possuem maior numero de elementos\n",
        "\n",
        "def calculo_roleta(pontuacoes):\n",
        "  roleta = []\n",
        "  total = sum(pontuacoes)\n",
        "  for i, valor in enumerate(pontuacoes):\n",
        "    repeticao = round(abs(total/(valor + 1)))\n",
        "    for r in range(repeticao):\n",
        "      roleta.append(i)\n",
        "  return roleta\n",
        "  "
      ]
    },
    {
      "cell_type": "code",
      "execution_count": null,
      "metadata": {
        "id": "CVEUCeqQ744y"
      },
      "outputs": [],
      "source": [
        "resultado = calculo_roleta(p)\n",
        "resultado"
      ]
    },
    {
      "cell_type": "code",
      "execution_count": null,
      "metadata": {
        "id": "n7AXjIBFihr3"
      },
      "outputs": [],
      "source": [
        "import random\n",
        "def crossover(populacao,g1,g2):\n",
        "  return [populacao[g1][random.randint(0, 1)], populacao[g2][random.randint(0, 1)]]   \n"
      ]
    },
    {
      "cell_type": "code",
      "execution_count": null,
      "metadata": {
        "id": "qdIdOsHhXO5V"
      },
      "outputs": [],
      "source": [
        "import numpy as np\n",
        "import random\n",
        "\n",
        "tam_pop = 10\n",
        "dimensao = 2\n",
        "limites = [-10,10]\n",
        "mutacao = 0.1\n",
        "repeticao = 100\n",
        "\n",
        "populacao = np.random.uniform(low=limites[0], high=limites[1], size=(tam_pop,2))\n",
        "for count in range(repeticao):\n",
        "  filhos = []\n",
        "  print(\"Repetição\", count)\n",
        "  pontuacoes = calcular_pontuacao(populacao)\n",
        "  indice = pontuacoes.index(min(pontuacoes))\n",
        "  print(\"Menor valor:\", min(pontuacoes), \" Individuo:\", populacao[indice])\n",
        "  roleta = calculo_roleta(pontuacoes)\n",
        "  for tam in range(tam_pop):\n",
        "    genitor1 = random.choice(roleta)\n",
        "    genitor2 = random.choice(roleta)\n",
        "    filho = crossover(populacao, genitor1, genitor2)\n",
        "    if (random.random() < 0.1):\n",
        "      # print(\"Entrou\")\n",
        "      filho[0] = random.randint(limites[0], limites[1])\n",
        "      filho[1] = random.randint(limites[0], limites[1])\n",
        "    filhos.append(filho)\n",
        "  populacao = np.array(filhos) \n",
        "\n",
        "\n",
        "\n"
      ]
    },
    {
      "cell_type": "code",
      "execution_count": null,
      "metadata": {},
      "outputs": [],
      "source": []
    }
  ],
  "metadata": {
    "colab": {
      "provenance": []
    },
    "kernelspec": {
      "display_name": "base",
      "language": "python",
      "name": "python3"
    },
    "language_info": {
      "codemirror_mode": {
        "name": "ipython",
        "version": 3
      },
      "file_extension": ".py",
      "mimetype": "text/x-python",
      "name": "python",
      "nbconvert_exporter": "python",
      "pygments_lexer": "ipython3",
      "version": "3.9.13"
    },
    "vscode": {
      "interpreter": {
        "hash": "7758e92e9a61d7a3490898707f7eeb937c85e9d1e8d4e877cc6c187218f226d5"
      }
    }
  },
  "nbformat": 4,
  "nbformat_minor": 0
}
